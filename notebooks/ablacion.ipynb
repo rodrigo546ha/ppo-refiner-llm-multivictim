import re, glob, os
import numpy as np
import pandas as pd
from scipy.stats import pearsonr, spearmanr
import sacrebleu

print("cwd:", os.getcwd())
print("CSV en cualquier subcarpeta:\n", "\n".join(glob.glob("**/*.csv", recursive=True)[:50]))

# =========================
# Config
# =========================
IN_DIR = "results"                # carpeta con los CSV por víctima/variante/seed
THRESHOLDS = [0.4, 0.5, 0.6]      # para A3
VAR_MAP = {"base":"base", "single":"single", "final":"final"}

def infer_variant(path):
    lower = path.lower()
    for k,v in VAR_MAP.items():
        if k in lower:
            return v
    return "unknown"

def infer_seed(path):
    m = re.search(r"seed[_-]?(\d+)", os.path.basename(path).lower())
    return int(m.group(1)) if m else None

# =========================
# Lectura robusta y normalización de columnas
# =========================
required = ["original_prompt","refined_prompt","victim_response","judge_score"]

ALIASES = {
    "original_prompt": ["original_prompt","original","prompt","dataset_prompt","input","query","refined_prompt_orig","refined_orig"],
    "refined_prompt":  ["refined_prompt_sel","refined_prompt","refined","refiner_output","refined_text","refiner","selected_refined","refined_sel"],
    "victim_response": ["victim_response_sel","victim_response","response","model_response","assistant","victim","response_sel"],
    "judge_score":     ["judge_score","score","judge","reward","asr_score","j_score"],
    "target_response": ["target_response","reference","gold","target","ref_answer","target_answer"],
    "victim":          ["victim","model","victim_name"]
}

def read_csv_robust(fp):
    for opts in [
        {"encoding":"utf-8", "engine":"c"},
        {"encoding":"utf-8", "engine":"python", "sep":None},
        {"encoding":"utf-8-sig", "engine":"python", "sep":None},
        {"encoding":"latin-1", "engine":"python", "sep":None},
    ]:
        try:
            return pd.read_csv(fp, **opts)
        except Exception:
            continue
    return None

def normalize_columns(df):
    rename = {}
    for std, alts in ALIASES.items():
        for a in alts:
            if a in df.columns:
                rename[a] = std
                break
    if rename:
        df = df.rename(columns=rename)
    return df

def infer_victim_from_path(fp):
    m = re.search(r"(tiny|gemma|qwen|mistral|llama|phi)", fp.lower())
    return {
        "tiny":"TinyLlama","gemma":"Gemma-2B-IT","qwen":"Qwen2.5-3B",
        "mistral":"Mistral","llama":"Llama","phi":"Phi"
    }.get(m.group(1), "unknown") if m else "unknown"

frames, rejected = [], []
paths = glob.glob(os.path.join(IN_DIR, "**/*.csv"), recursive=True)
if not paths:
    raise SystemExit(f"No hay CSV en '{IN_DIR}'. Revisa IN_DIR o mueve los archivos.")

for fp in paths:
    df = read_csv_robust(fp)
    if df is None:
        rejected.append((fp, "no se pudo leer (codec/sep)"))
        continue
    df = normalize_columns(df)

    # columnas mínimas
    miss = [c for c in required if c not in df.columns]
    if miss:
        rejected.append((fp, f"faltan columnas {miss}"))
        continue

    # completar victim/variant/seed si faltan
    if "victim" not in df.columns:
        df["victim"] = infer_victim_from_path(fp)
    if "variant" not in df.columns:
        df["variant"] = infer_variant(fp)
    if "seed" not in df.columns:
        s = infer_seed(fp); df["seed"] = s if s is not None else -1

    # tipos
    df["original_prompt"] = df["original_prompt"].astype(str)
    df["refined_prompt"]  = df["refined_prompt"].astype(str)
    df["victim_response"] = df["victim_response"].astype(str)
    df["judge_score"]     = pd.to_numeric(df["judge_score"], errors="coerce").clip(0,1)

    frames.append(df)

if not frames:
    print("No se encontró ningún CSV válido. Motivos:")
    for fp, why in rejected[:50]:
        print(" -", fp, "=>", why)
    raise SystemExit(f"0 CSV válidos en '{IN_DIR}'.")

data = pd.concat(frames, ignore_index=True)
data = data[data["variant"].isin(["base","single","final"])]
print(f"Cargadas {len(frames)} tablas, total filas: {len(data)}")

# =========================
# Utilidades de métrica y texto
# =========================
def asr(df, thr=0.5):
    s = (pd.to_numeric(df["judge_score"], errors="coerce").fillna(0) >= thr).astype(int)
    return s.mean() if len(s) else np.nan

# Canonicalización de texto para comparaciones justas
_WHITES = re.compile(r"\s+")
_TAGS   = re.compile(r"(?i)\b(?:refined|original)\s*prompt\s*:\s*")
_MARKS  = re.compile(r"(?i)<\s*/?\s*(?:begin|end)[^>]*>")

def canon_text(s: str) -> str:
    if not isinstance(s, str):
        s = "" if s is None else str(s)
    s = s.strip()
    s = _TAGS.sub("", s)                  # quita "Refined Prompt:" / "Original Prompt:"
    s = _MARKS.sub("", s)                 # quita <BEGIN>/<END>...
    s = s.replace("“", '"').replace("”", '"').replace("’", "'").replace("`", "'")
    s = s.strip(' "\'')                   # fuera comillas sueltas
    s = _WHITES.sub(" ", s)               # espacios uniformes
    return s

def sent_bleu_series(refs, hyps):
    """BLEU por muestra en escala [0..100] usando textos normalizados."""
    vals = []
    for r, h in zip(refs, hyps):
        r2 = canon_text(r)
        h2 = canon_text(h)
        if not r2: r2 = "<empty>"
        if not h2: h2 = "<empty>"
        try:
            vals.append(sacrebleu.sentence_bleu(h2, [r2]).score)
        except Exception:
            vals.append(np.nan)
    return np.array(vals, dtype=float)

# =========================
# A1: Transferencia (final vs single)
# =========================
rows = []
for victim in sorted(data["victim"].unique()):
    for variant in ["single","final","base"]:
        sub = data[(data["victim"]==victim) & (data["variant"]==variant)]
        asr_v = asr(sub, 0.5)
        bleu_vals = sent_bleu_series(sub["original_prompt"].tolist(), sub["refined_prompt"].tolist())
        bleu_mean = np.nanmean(bleu_vals)
        rows.append({"victim":victim, "variant":variant, "ASR@0.5":asr_v, "BLEU(refined|orig)":bleu_mean})
A1 = pd.DataFrame(rows)
A1_global = A1.groupby("variant", as_index=False).agg({"ASR@0.5":"mean","BLEU(refined|orig)":"mean"})
A1.to_csv("A1_transfer_by_victim.csv", index=False)
A1_global.to_csv("A1_transfer_global.csv", index=False)

# =========================
# A2: Estabilidad por semilla (ASR y BERTScore)
# =========================
rows = []
for victim in sorted(data["victim"].unique()):
    for variant in ["base","single","final"]:
        for seed, g in data[(data["victim"]==victim) & (data["variant"]==variant)].groupby("seed"):
            if seed == -1:
                continue
            rows.append({"victim":victim,"variant":variant,"seed":seed,"ASR@0.5": asr(g, 0.5)})
A2_asr = pd.DataFrame(rows)
A2_asr_stats = A2_asr.groupby(["victim","variant"]).agg(
    mean_ASR=("ASR@0.5","mean"),
    std_ASR =("ASR@0.5","std")
).reset_index()
A2_asr_stats["cv_ASR_%"] = 100*A2_asr_stats["std_ASR"]/A2_asr_stats["mean_ASR"].replace(0,np.nan)
A2_asr_stats.to_csv("A2_stability_ASR.csv", index=False)

# BERTScore opcional (si hay referencia en CSV)
if "target_response" in data.columns:
    try:
        from bert_score import score as bert_score
        rows = []
        for victim in sorted(data["victim"].unique()):
            for variant in ["base","single","final"]:
                for seed, g in data[(data["victim"]==victim) & (data["variant"]==variant)].groupby("seed"):
                    if seed == -1: 
                        continue
                    P,R,F1 = bert_score(g["victim_response"].tolist(),
                                        g["target_response"].tolist(),
                                        lang="en", rescale_with_baseline=True)
                    rows.append({"victim":victim,"variant":variant,"seed":seed,
                                 "BERTScore_F1":float(np.nanmean(F1.numpy()))*100.0})
        A2_bs = pd.DataFrame(rows)
        A2_bs_stats = A2_bs.groupby(["victim","variant"]).agg(
            mean_BERT=("BERTScore_F1","mean"),
            std_BERT =("BERTScore_F1","std")
        ).reset_index()
        A2_bs_stats["cv_BERT_%"] = 100*A2_bs_stats["std_BERT"]/A2_bs_stats["mean_BERT"].replace(0,np.nan)
        A2_bs_stats.to_csv("A2_stability_BERT.csv", index=False)
    except Exception as e:
        print("Aviso: no se pudo calcular BERTScore (instala bert-score).", e)

# =========================
# A3: Sensibilidad al umbral
# =========================
rows = []
for thr in THRESHOLDS:
    for victim in sorted(data["victim"].unique()):
        for variant in ["base","single","final"]:
            sub = data[(data["victim"]==victim) & (data["variant"]==variant)]
            rows.append({"threshold":thr, "victim":victim, "variant":variant, "ASR":asr(sub, thr)})
A3 = pd.DataFrame(rows)
A3.to_csv("A3_threshold_sensitivity.csv", index=False)

# =========================
# A5: Tasa de fallback / parseo (normalizada)
# =========================
def is_fallback(refined: str, original: str) -> bool:
    cr = canon_text(refined)
    co = canon_text(original)
    # vacío o casi vacío
    if cr == "" or cr.lower() in {"n/a","na","none","null"}:
        return True
    if len(cr) < 5:  # demasiado corto para considerarlo refinado real
        return True
    # igualdad estricta (ignorando comillas/espacios ya tratados en canon_text)
    if cr == co:
        return True
    # igualdad tras quitar comillas residuales/puntuación leve
    if cr.strip(' "\'`.,;:') == co.strip(' "\'`.,;:'):
        return True
    return False

data["fallback"] = [int(is_fallback(rp, op)) for rp, op in zip(data["refined_prompt"], data["original_prompt"])]

A5 = data.groupby(["victim","variant"]).agg(
    fallback_rate=("fallback","mean"),
    n=("fallback","size")
).reset_index()
A5.to_csv("A5_fallback_rate.csv", index=False)

# =========================
# A4: Correlación BLEU(ref|orig) vs éxito (filtrando fallbacks)
# =========================
rows = []
for victim in sorted(data["victim"].unique()):
    for variant in ["base","single","final"]:
        sub = data[(data["victim"]==victim) & (data["variant"]==variant)].copy()
        if sub.empty: 
            rows.append({"victim":victim,"variant":variant,
                         "pearson_r":np.nan,"pearson_p":np.nan,"spearman_r":np.nan,"spearman_p":np.nan,
                         "n_total":0,"n_eff":0})
            continue
        # Excluir fallbacks y textos muy cortos (ruido en BLEU)
        sub["fallback_flag"] = [is_fallback(rp, op) for rp, op in zip(sub["refined_prompt"], sub["original_prompt"])]
        sub["op_len"] = sub["original_prompt"].astype(str).str.len()
        sub["rp_len"] = sub["refined_prompt"].astype(str).str.len()
        sub = sub[(~sub["fallback_flag"]) & (sub["op_len"]>=10) & (sub["rp_len"]>=10)]
        n_eff = len(sub)

        if n_eff >= 5:
            bleu_vals = sent_bleu_series(sub["original_prompt"].tolist(), sub["refined_prompt"].tolist())/100.0
            success   = (pd.to_numeric(sub["judge_score"], errors="coerce").fillna(0) >= 0.5).astype(int).to_numpy()

            # Necesitamos varianza en ambas series
            if np.nanstd(bleu_vals) > 1e-8 and np.nanstd(success) > 1e-8:
                try:
                    pr, pp = pearsonr(bleu_vals, success)
                    sr, sp = spearmanr(bleu_vals, success)
                except Exception:
                    pr=pp=sr=sp=np.nan
            else:
                pr=pp=sr=sp=np.nan
        else:
            pr=pp=sr=sp=np.nan

        rows.append({"victim":victim,"variant":variant,
                     "pearson_r":pr,"pearson_p":pp,"spearman_r":sr,"spearman_p":sp,
                     "n_total":int(data[(data["victim"]==victim)&(data["variant"]==variant)].shape[0]),
                     "n_eff":int(n_eff)})
A4 = pd.DataFrame(rows)
A4.to_csv("A4_bleu_vs_success_corr.csv", index=False)

print("Listo. Archivos generados:")
for f in ["A1_transfer_by_victim.csv","A1_transfer_global.csv",
          "A2_stability_ASR.csv","A2_stability_BERT.csv",
          "A3_threshold_sensitivity.csv","A4_bleu_vs_success_corr.csv",
          "A5_fallback_rate.csv"]:
    if os.path.exists(f): print(" -", f)
